{
 "cells": [
  {
   "cell_type": "markdown",
   "source": [
    "N Demo\n"
   ],
   "metadata": {
    "collapsed": false
   }
  },
  {
   "cell_type": "markdown",
   "source": [
    "Added First NNImporting the required libraries and starting the PyTorch directML device."
   ],
   "metadata": {
    "collapsed": false
   }
  },
  {
   "cell_type": "code",
   "execution_count": 8,
   "metadata": {
    "collapsed": true,
    "ExecuteTime": {
     "start_time": "2023-04-21T05:17:00.707767Z",
     "end_time": "2023-04-21T05:17:00.766875Z"
    }
   },
   "outputs": [
    {
     "name": "stdout",
     "output_type": "stream",
     "text": [
      "privateuseone:0\n"
     ]
    }
   ],
   "source": [
    "import torch\n",
    "import torch_directml\n",
    "import torch.nn as nn\n",
    "dml = torch_directml.device()\n",
    "print(dml)\n"
   ]
  },
  {
   "cell_type": "markdown",
   "source": [
    "## Data\n",
    "Let's start by creating some sample data using the `torch.tensor` command. In Numpy, this could be done with `np.array`. Both functions serve the same purpose, but in PyTorch everything is a Tensor as opposed to a vector or matrix. We define types in PyTorch using the `dtype=torch.xxx` command.\n",
    "\n",
    "In the data below, `X` represents the amount of hours studied and how much time students spent sleeping, whereas `y` represent grades. The variable `xPredicted` is a single input for which we want to predict a grade using the parameters learned by the neural network. Remember, the neural network wants to learn a mapping between `X` and `y`, so it will try to take a guess from what it has learned from the training data."
   ],
   "metadata": {
    "collapsed": false
   }
  },
  {
   "cell_type": "code",
   "execution_count": 9,
   "outputs": [],
   "source": [
    "X = torch.tensor(([2, 9], [1, 5], [3, 6]), dtype=torch.float).to(dml) # 3 X 2 tensor\n",
    "y = torch.tensor(([92], [100], [89]), dtype=torch.float).to(dml) # 3 X 1 tensor\n",
    "xPredicted = torch.tensor(([4, 8]), dtype=torch.float).to(dml) # 1 X 2 tensor\n"
   ],
   "metadata": {
    "collapsed": false,
    "ExecuteTime": {
     "start_time": "2023-04-21T05:17:00.766566Z",
     "end_time": "2023-04-21T05:17:00.767131Z"
    }
   }
  },
  {
   "cell_type": "markdown",
   "source": [
    "You can check the size of the tensors we have just created with the size command. This is equivalent to the shape command used in tools such as Numpy and Tensorflow."
   ],
   "metadata": {
    "collapsed": false
   }
  },
  {
   "cell_type": "code",
   "execution_count": 10,
   "outputs": [
    {
     "name": "stdout",
     "output_type": "stream",
     "text": [
      "torch.Size([3, 2])\n",
      "torch.Size([3, 1])\n",
      "privateuseone:0\n",
      "privateuseone:0\n"
     ]
    }
   ],
   "source": [
    "print(X.size())\n",
    "print(y.size())\n",
    "\n",
    "#Check if the tensors are on the GPU direct ML device\n",
    "print(X.device)\n",
    "print(y.device)\n",
    "\n"
   ],
   "metadata": {
    "collapsed": false,
    "ExecuteTime": {
     "start_time": "2023-04-21T05:17:00.766633Z",
     "end_time": "2023-04-21T05:17:00.767296Z"
    }
   }
  },
  {
   "cell_type": "markdown",
   "source": [
    "Scaling\n",
    "Below we are performing some scaling on the sample data. Notice that the max function returns both a tensor and the corresponding indices. So we use _ to capture the indices which we won't use here because we are only interested in the max values to conduct the scaling. Perfect! Our data is now in a very nice format our neural network will appreciate later on."
   ],
   "metadata": {
    "collapsed": false
   }
  },
  {
   "cell_type": "code",
   "execution_count": 11,
   "outputs": [
    {
     "name": "stdout",
     "output_type": "stream",
     "text": [
      "tensor([0.5000, 1.0000], device='privateuseone:0')\n",
      "tensor([[0.9200],\n",
      "        [1.0000],\n",
      "        [0.8900]], device='privateuseone:0')\n"
     ]
    }
   ],
   "source": [
    "# scale units\n",
    "X_max, _ = torch.max(X, 0)\n",
    "xPredicted_max, _ = torch.max(xPredicted, 0)\n",
    "\n",
    "X = torch.div(X, X_max)\n",
    "xPredicted = torch.div(xPredicted, xPredicted_max)\n",
    "y = y / 100  # max test score is 100\n",
    "print(xPredicted)\n",
    "print(y)\n"
   ],
   "metadata": {
    "collapsed": false,
    "ExecuteTime": {
     "start_time": "2023-04-21T05:17:00.766671Z",
     "end_time": "2023-04-21T05:17:00.827184Z"
    }
   }
  },
  {
   "cell_type": "markdown",
   "source": [
    "Model (Computation Graph)\n",
    "Once the data has been processed and it is in the proper format, all you need to do now is to define your model. Here is where things begin to change a little as compared to how you would build your neural networks using, say, something like Keras or Tensorflow. However, you will realize quickly as you go along that PyTorch doesn't differ much from other deep learning tools. At the end of the day we are constructing a computation graph, which is used to dictate how data should flow and what type of operations are performed on this information.\n",
    "\n",
    "For illustration purposes, we are building the following neural network or computation graph:\n",
    "\n",
    "![alt text](https://drive.google.com/uc?export=view&id=1l-sKpcCJCEUJV1BlAqcVAvLXLpYCInV6)\n"
   ],
   "metadata": {
    "collapsed": false
   }
  },
  {
   "cell_type": "code",
   "execution_count": 12,
   "outputs": [],
   "source": [
    "class Neural_Network(nn.Module):\n",
    "    def __init__(self, ):\n",
    "        super(Neural_Network, self).__init__()\n",
    "        # parameters\n",
    "        # TODO: parameters can be parameterized instead of declaring them here\n",
    "        self.inputSize = 2\n",
    "        self.outputSize = 1\n",
    "        self.hiddenSize = 3\n",
    "\n",
    "        # weights\n",
    "        self.W1 = torch.randn(self.inputSize, self.hiddenSize).to(dml) # 3 X 2 tensor\n",
    "        self.W2 = torch.randn(self.hiddenSize, self.outputSize).to(dml) # 3 X 1 tensor\n",
    "\n",
    "    def forward(self, X):\n",
    "        self.z = torch.matmul(X, self.W1) # 3 X 3 \".dot\" does not broadcast in PyTorch\n",
    "        self.z2 = self.sigmoid(self.z) # activation function\n",
    "        self.z3 = torch.matmul(self.z2, self.W2)\n",
    "        o = self.sigmoid(self.z3) # final activation function\n",
    "        return o\n",
    "\n",
    "    def sigmoid(self, s):\n",
    "        return 1 / (1 + torch.exp(-s))\n",
    "\n",
    "    def sigmoidPrime(self, s):\n",
    "        # derivative of sigmoid\n",
    "        return s * (1 - s)\n",
    "\n",
    "    def backward(self, X, y, o):\n",
    "        self.o_error = y - o # error in output\n",
    "        self.o_delta = self.o_error * self.sigmoidPrime(o) # derivative of sig to error\n",
    "        self.z2_error = torch.matmul(self.o_delta, torch.t(self.W2))\n",
    "        self.z2_delta = self.z2_error * self.sigmoidPrime(self.z2)\n",
    "        self.W1 += torch.matmul(torch.t(X).to(dml), self.z2_delta)\n",
    "        self.W2 += torch.matmul(torch.t(self.z2).to(dml), self.o_delta)\n",
    "\n",
    "    def train(self, X, y):\n",
    "        # forward + backward pass for training\n",
    "        o = self.forward(X)\n",
    "        self.backward(X, y, o)\n",
    "\n",
    "    def saveWeights(self, model):\n",
    "        # we will use the PyTorch internal storage functions\n",
    "        torch.save(model, \"NN\")\n",
    "        # you can reload model with all the weights and so forth with:\n",
    "        # torch.load(\"NN\")\n",
    "\n",
    "    def predict(self):\n",
    "        print (\"Predicted data based on trained weights: \")\n",
    "        print (\"Input (scaled): \\n\" + str(xPredicted))\n",
    "        print (\"Output: \\n\" + str(self.forward(xPredicted)))\n"
   ],
   "metadata": {
    "collapsed": false,
    "ExecuteTime": {
     "start_time": "2023-04-21T05:17:00.825428Z",
     "end_time": "2023-04-21T05:17:00.829586Z"
    }
   }
  },
  {
   "cell_type": "markdown",
   "source": [],
   "metadata": {
    "collapsed": false
   }
  },
  {
   "cell_type": "markdown",
   "source": [
    "For the purpose of this tutorial, we are not going to be talking math stuff, that's for another day. I just want you to get a gist of what it takes to build a neural network from scratch using PyTorch. Let's break down the model which was declared via the class above.\n",
    "\n",
    "Class Header\n",
    "First, we defined our model via a class because that is the recommended way to build the computation graph. The class header contains the name of the class Neural Network and the parameter nn.Module which basically indicates that we are defining our own neural network."
   ],
   "metadata": {
    "collapsed": false
   }
  },
  {
   "cell_type": "code",
   "execution_count": 12,
   "outputs": [],
   "source": [
    "\n"
   ],
   "metadata": {
    "collapsed": false,
    "ExecuteTime": {
     "start_time": "2023-04-21T05:17:00.830260Z",
     "end_time": "2023-04-21T05:17:00.832229Z"
    }
   }
  },
  {
   "cell_type": "markdown",
   "source": [
    "nitialization\n",
    "The next step is to define the initializations ( def __init__(self,)) that will be performed upon creating an instance of the customized neural network. You can declare the parameters of your model here, but typically, you would declare the structure of your network in this section -- the size of the hidden layers and so forth. Since we are building the neural network from scratch, we explicitly declared the size of the weights matrices: one that stores the parameters from the input to hidden layer; and one that stores the parameter from the hidden to output layer. Both weight matrices are initialized with values randomly chosen from a normal distribution via torch.randn(...). Note that we are not using bias just to keep things as simple as possible."
   ],
   "metadata": {
    "collapsed": false
   }
  },
  {
   "cell_type": "code",
   "execution_count": 12,
   "outputs": [],
   "source": [],
   "metadata": {
    "collapsed": false,
    "ExecuteTime": {
     "start_time": "2023-04-21T05:17:00.834168Z",
     "end_time": "2023-04-21T05:17:00.836580Z"
    }
   }
  },
  {
   "cell_type": "markdown",
   "source": [
    "The Forward Function\n",
    "The forward function is where all the magic happens (see below). This is where the data enters and is fed into the computation graph (i.e., the neural network structure we have built). Since we are building a simple neural network with one hidden layer, our forward function looks very simple:"
   ],
   "metadata": {
    "collapsed": false
   }
  },
  {
   "cell_type": "code",
   "execution_count": 12,
   "outputs": [],
   "source": [],
   "metadata": {
    "collapsed": false,
    "ExecuteTime": {
     "start_time": "2023-04-21T05:17:00.838396Z",
     "end_time": "2023-04-21T05:17:00.888801Z"
    }
   }
  },
  {
   "cell_type": "markdown",
   "source": [
    "The forward function above takes the input Xand then performs a matrix multiplication (torch.matmul(...)) with the first weight matrix self.W1. Then the result is applied an activation function, sigmoid. The resulting matrix of the activation is then multiplied with the second weight matrix self.W2. Then another activation if performed, which renders the output of the neural network or computation graph. The process I described above is simply what's known as a feedforward pass. In order for the weights to optimize when training, we need a backpropagation algorithm.\n",
    "\n",
    "The Backward Function\n",
    "The backward function contains the backpropagation algorithm, where the goal is to essentially minimize the loss with respect to our weights. In other words, the weights need to be updated in such a way that the loss decreases while the neural network is training (well, that is what we hope for). All this magic is possible with the gradient descent algorithm which is declared in the backward function. Take a minute or two to inspect what is happening in the code below:"
   ],
   "metadata": {
    "collapsed": false
   }
  },
  {
   "cell_type": "code",
   "execution_count": 12,
   "outputs": [],
   "source": [],
   "metadata": {
    "collapsed": false,
    "ExecuteTime": {
     "start_time": "2023-04-21T05:17:00.886249Z",
     "end_time": "2023-04-21T05:17:00.888961Z"
    }
   }
  },
  {
   "cell_type": "markdown",
   "source": [
    "Notice that we are performing a lot of matrix multiplications along with the transpose operations via the torch.matmul(...) and torch.t(...) operations, respectively. The rest is simply gradient descent -- there is nothing to it.\n"
   ],
   "metadata": {
    "collapsed": false
   }
  },
  {
   "cell_type": "markdown",
   "source": [
    "Training\n",
    "All that is left now is to train the neural network. First we create an instance of the computation graph we have just built:\n",
    "\n",
    "NN = Neural_Network()\n",
    "Then we train the model for 1000 rounds. Notice that in PyTorch NN(X) automatically calls the forward function so there is no need to explicitly call NN.forward(X).\n",
    "\n",
    "After we have obtained the predicted output for ever round of training, we compute the loss, with the following code:\n",
    "\n",
    "torch.mean((y - NN(X))**2).detach().item()\n",
    "The next step is to start the training (foward + backward) via NN.train(X, y). After we have trained the neural network, we can store the model and output the predicted value of the single instance we declared in the beginning, xPredicted.\n",
    "\n",
    "Let's train!"
   ],
   "metadata": {
    "collapsed": false
   }
  },
  {
   "cell_type": "code",
   "execution_count": 13,
   "outputs": [
    {
     "name": "stdout",
     "output_type": "stream",
     "text": [
      "Starting training...\n",
      "#0 Loss: 0.19136419892311096\n",
      "#100 Loss: 0.0030328889843076468\n",
      "#200 Loss: 0.0027388972230255604\n",
      "#300 Loss: 0.002576062921434641\n",
      "#400 Loss: 0.0024151199031621218\n",
      "#500 Loss: 0.002250379417091608\n",
      "#600 Loss: 0.0020841776859015226\n",
      "#700 Loss: 0.0019200840033590794\n",
      "#800 Loss: 0.00176200398709625\n",
      "#900 Loss: 0.0016135593177750707\n",
      "#1000 Loss: 0.0014775703893974423\n",
      "#1100 Loss: 0.0013556975172832608\n",
      "#1200 Loss: 0.0012483889004215598\n",
      "#1300 Loss: 0.0011551176430657506\n",
      "#1400 Loss: 0.0010746967745944858\n",
      "#1500 Loss: 0.001005600905045867\n",
      "#1600 Loss: 0.0009462164016440511\n",
      "#1700 Loss: 0.0008950037299655378\n",
      "#1800 Loss: 0.0008505829027853906\n",
      "#1900 Loss: 0.0008117588586173952\n",
      "#2000 Loss: 0.0007775353151373565\n",
      "#2100 Loss: 0.0007470748969353735\n",
      "#2200 Loss: 0.0007197101367637515\n",
      "#2300 Loss: 0.0006948983645997941\n",
      "#2400 Loss: 0.000672198657412082\n",
      "#2500 Loss: 0.0006512626423500478\n",
      "#2600 Loss: 0.0006318082450889051\n",
      "#2700 Loss: 0.0006136204465292394\n",
      "#2800 Loss: 0.0005965166492387652\n",
      "#2900 Loss: 0.00058035395340994\n",
      "#3000 Loss: 0.0005650209495797753\n",
      "#3100 Loss: 0.0005504307919181883\n",
      "#3200 Loss: 0.0005365057149901986\n",
      "#3300 Loss: 0.0005231915856711566\n",
      "#3400 Loss: 0.0005104349693283439\n",
      "#3500 Loss: 0.0004981983220204711\n",
      "#3600 Loss: 0.00048644666094332933\n",
      "#3700 Loss: 0.0004751573724206537\n",
      "#3800 Loss: 0.00046429852955043316\n",
      "#3900 Loss: 0.00045385496923699975\n",
      "#4000 Loss: 0.0004438001196831465\n",
      "#4100 Loss: 0.0004341209423728287\n",
      "#4200 Loss: 0.00042479817057028413\n",
      "#4300 Loss: 0.00041581722325645387\n",
      "#4400 Loss: 0.0004071658186148852\n",
      "#4500 Loss: 0.00039882780401967466\n",
      "#4600 Loss: 0.00039078755071386695\n",
      "#4700 Loss: 0.0003830363566521555\n",
      "#4800 Loss: 0.0003755603393074125\n",
      "#4900 Loss: 0.00036834782804362476\n",
      "#5000 Loss: 0.0003613876469898969\n",
      "#5100 Loss: 0.00035466664121486247\n",
      "#5200 Loss: 0.00034817613777704537\n",
      "#5300 Loss: 0.00034190533915534616\n",
      "#5400 Loss: 0.00033584810444153845\n",
      "#5500 Loss: 0.0003299898817203939\n",
      "#5600 Loss: 0.00032432618900202215\n",
      "#5700 Loss: 0.0003188463451806456\n",
      "#5800 Loss: 0.0003135411243420094\n",
      "#5900 Loss: 0.00030840522958897054\n",
      "#6000 Loss: 0.00030343225807882845\n",
      "#6100 Loss: 0.00029861225630156696\n",
      "#6200 Loss: 0.0002939409459941089\n",
      "#6300 Loss: 0.00028941003256477416\n",
      "#6400 Loss: 0.0002850161399692297\n",
      "#6500 Loss: 0.00028075012960471213\n",
      "#6600 Loss: 0.00027661057538352907\n",
      "#6700 Loss: 0.0002725904050748795\n",
      "#6800 Loss: 0.0002686847292352468\n",
      "#6900 Loss: 0.0002648899971973151\n",
      "#7000 Loss: 0.000261198467342183\n",
      "#7100 Loss: 0.0002576089173089713\n",
      "#7200 Loss: 0.0002541175635997206\n",
      "#7300 Loss: 0.00025072062271647155\n",
      "#7400 Loss: 0.00024741326342336833\n",
      "#7500 Loss: 0.00024419205146841705\n",
      "#7600 Loss: 0.0002410541637800634\n",
      "#7700 Loss: 0.00023799773771315813\n",
      "#7800 Loss: 0.0002350166905671358\n",
      "#7900 Loss: 0.00023211230291053653\n",
      "#8000 Loss: 0.00022927716781850904\n",
      "#8100 Loss: 0.00022651406470686197\n",
      "#8200 Loss: 0.00022381589224096388\n",
      "#8300 Loss: 0.00022118276683613658\n",
      "#8400 Loss: 0.00021861129789613187\n",
      "#8500 Loss: 0.000216100481338799\n",
      "#8600 Loss: 0.00021364749409258366\n",
      "#8700 Loss: 0.00021125137573108077\n",
      "#8800 Loss: 0.00020890927407890558\n",
      "#8900 Loss: 0.00020661900634877384\n",
      "#9000 Loss: 0.00020437868079170585\n",
      "#9100 Loss: 0.0002021876716753468\n",
      "#9200 Loss: 0.0002000458334805444\n",
      "#9300 Loss: 0.00019794785475824028\n",
      "#9400 Loss: 0.00019589629664551467\n",
      "#9500 Loss: 0.00019388679356779903\n",
      "#9600 Loss: 0.00019192000036127865\n",
      "#9700 Loss: 0.00018999235180672258\n",
      "#9800 Loss: 0.00018810524488799274\n",
      "#9900 Loss: 0.00018625493976287544\n",
      "Predicted data based on trained weights: \n",
      "Input (scaled): \n",
      "tensor([0.5000, 1.0000], device='privateuseone:0')\n",
      "Output: \n",
      "tensor([0.9526], device='privateuseone:0')\n",
      "Finished training!\n"
     ]
    }
   ],
   "source": [
    "NN = Neural_Network()\n",
    "print(\"Starting training...\")\n",
    "for i in range(10000):  # trains the NN 10,000 times\n",
    "    if (i % 100) == 0:\n",
    "        print (\"#\" + str(i) + \" Loss: \" + str(torch.mean((y - NN(X))**2).detach().item()))  # mean sum squared loss\n",
    "    #Confirm everything is running on DML not CPU\n",
    "    try:\n",
    "        NN.train(X, y)\n",
    "    except Exception as e:\n",
    "        print(e)\n",
    "        print(\"Error: Training failed\")\n",
    "        break\n",
    "NN.saveWeights(NN)\n",
    "NN.predict()\n",
    "\n",
    "print(\"Finished training!\")\n"
   ],
   "metadata": {
    "collapsed": false,
    "ExecuteTime": {
     "start_time": "2023-04-21T05:17:00.886295Z",
     "end_time": "2023-04-21T05:17:06.426531Z"
    }
   }
  }
 ],
 "metadata": {
  "kernelspec": {
   "display_name": "Python 3",
   "language": "python",
   "name": "python3"
  },
  "language_info": {
   "codemirror_mode": {
    "name": "ipython",
    "version": 2
   },
   "file_extension": ".py",
   "mimetype": "text/x-python",
   "name": "python",
   "nbconvert_exporter": "python",
   "pygments_lexer": "ipython2",
   "version": "2.7.6"
  }
 },
 "nbformat": 4,
 "nbformat_minor": 0
}
